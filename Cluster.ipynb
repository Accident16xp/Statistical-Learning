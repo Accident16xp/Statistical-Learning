{
 "cells": [
  {
   "cell_type": "code",
   "execution_count": 1,
   "id": "b4b01e83",
   "metadata": {},
   "outputs": [],
   "source": [
    "#聚类方法的实现"
   ]
  },
  {
   "cell_type": "code",
   "execution_count": 2,
   "id": "15cfb1a5",
   "metadata": {},
   "outputs": [],
   "source": [
    "#导入包\n",
    "import math\n",
    "import random\n",
    "import numpy as np\n",
    "from sklearn import datasets,cluster\n",
    "import matplotlib.pyplot as plt"
   ]
  },
  {
   "cell_type": "code",
   "execution_count": 3,
   "id": "35d94da8",
   "metadata": {},
   "outputs": [],
   "source": [
    "iris =datasets.load_iris()\n",
    "iris['target']\n",
    "data=iris['data'][:,:2]"
   ]
  },
  {
   "cell_type": "code",
   "execution_count": 4,
   "id": "d18f2051",
   "metadata": {},
   "outputs": [],
   "source": [
    "x=data[:,0]\n",
    "y=data[:,1]"
   ]
  },
  {
   "cell_type": "code",
   "execution_count": 5,
   "id": "95e1be61",
   "metadata": {},
   "outputs": [],
   "source": [
    "#可视化基本的数据"
   ]
  },
  {
   "cell_type": "code",
   "execution_count": 6,
   "id": "15117c7f",
   "metadata": {},
   "outputs": [
    {
     "data": {
      "text/plain": [
       "<matplotlib.collections.PathCollection at 0x221f870cb20>"
      ]
     },
     "execution_count": 6,
     "metadata": {},
     "output_type": "execute_result"
    },
    {
     "data": {
      "image/png": "[encoded data removed]",
      "text/plain": [
       "<Figure size 432x288 with 1 Axes>"
      ]
     },
     "metadata": {
      "needs_background": "light"
     },
     "output_type": "display_data"
    }
   ],
   "source": [
    "plt.scatter(x,y,color='green')\n"
   ]
  },
  {
   "cell_type": "code",
   "execution_count": 7,
   "id": "df7b14f5",
   "metadata": {},
   "outputs": [],
   "source": [
    "#先定义一个类，聚类节点"
   ]
  },
  {
   "cell_type": "code",
   "execution_count": 8,
   "id": "4fa446c7",
   "metadata": {},
   "outputs": [],
   "source": [
    "class ClusterNode:\n",
    "    #中心vec，左节点left，右节点right，距离distance，标记id，叶子个数count\n",
    "    def __init__(self,vec,left=None,right=None,distance=-1,id=None,count=1):\n",
    "        self.vec=vec\n",
    "        self.left=left\n",
    "        self.right=right\n",
    "        self.distance=distance\n",
    "        self.id=id\n",
    "        self.count=count\n",
    "        "
   ]
  },
  {
   "cell_type": "code",
   "execution_count": 12,
   "id": "cfb79cd7",
   "metadata": {},
   "outputs": [],
   "source": [
    "#定义一个距离函数，使用欧式距离\n",
    "def euler_distance(point1: np.ndarray,point2: list)->float:\n",
    "    distance=0.0\n",
    "    for a,b in zip(point1,point2):\n",
    "        distance+=math.pow(a-b,2)\n",
    "    return math.sqrt(distance)"
   ]
  },
  {
   "cell_type": "code",
   "execution_count": 13,
   "id": "f2bba1ef",
   "metadata": {},
   "outputs": [],
   "source": [
    "# 层次聚类（聚合法）\n",
    "\n",
    "class Hierarchical:\n",
    "    def __init__(self, k):\n",
    "        self.k = k\n",
    "        self.labels = None\n",
    "        \n",
    "    def fit(self, x):\n",
    "        nodes = [ClusterNode(vec=v, id=i) for i, v in enumerate(x)]\n",
    "        distances = {}\n",
    "        point_num, feature_num = x.shape\n",
    "        self.labels = [-1] * point_num\n",
    "        currentclustid = -1\n",
    "        while(len(nodes)) > self.k:\n",
    "            min_dist = math.inf\n",
    "            nodes_len = len(nodes)\n",
    "            closest_part = None\n",
    "            for i in range(nodes_len - 1):\n",
    "                for j in range(i+1, nodes_len):\n",
    "                    d_key = (nodes[i].id, nodes[j].id)\n",
    "                    if d_key not in distances:\n",
    "                        distances[d_key] = euler_distance(nodes[i].vec, nodes[j].vec)\n",
    "                    d = distances[d_key]\n",
    "                    if d < min_dist:\n",
    "                        min_dist = d\n",
    "                        closest_part = (i, j)\n",
    "                        \n",
    "            part1, part2 = closest_part\n",
    "            node1, node2 = nodes[part1], nodes[part2]\n",
    "            new_vec = [ (node1.vec[i] * node1.count + node2.vec[i] * node2.count ) / (node1.count + node2.count)\n",
    "                        for i in range(feature_num)]\n",
    "            new_node = ClusterNode(vec=new_vec,\n",
    "                                   left=node1,\n",
    "                                   right=node2,\n",
    "                                   distance=min_dist,\n",
    "                                   id=currentclustid,\n",
    "                                   count=node1.count + node2.count)\n",
    "            currentclustid -= 1\n",
    "            del nodes[part2], nodes[part1]\n",
    "            nodes.append(new_node)\n",
    "            \n",
    "        self.nodes = nodes\n",
    "        self.calc_label()\n",
    "        \n",
    "    def calc_label(self):\n",
    "        for i, node in enumerate(self.nodes):\n",
    "            self.leaf_traversal(node, i)\n",
    "\n",
    "    def leaf_traversal(self, node: ClusterNode, label):\n",
    "        if node.left == None and node.right == None:\n",
    "            self.labels[node.id] = label\n",
    "        if node.left:\n",
    "            self.leaf_traversal(node.left, label)\n",
    "        if node.right:\n",
    "            self.leaf_traversal(node.right, label)\n",
    "            \n"
   ]
  },
  {
   "cell_type": "code",
   "execution_count": 14,
   "id": "0454cf58",
   "metadata": {},
   "outputs": [
    {
     "name": "stdout",
     "output_type": "stream",
     "text": [
      "[2 2 2 2 2 2 2 2 2 2 2 2 2 2 2 2 2 2 2 2 2 2 2 2 2 2 2 2 2 2 2 2 2 2 2 2 2\n",
      " 2 2 2 2 2 2 2 2 2 2 2 2 2 0 0 0 0 0 0 0 2 0 2 2 0 0 0 0 0 0 0 0 0 0 0 0 0\n",
      " 0 0 0 0 0 0 0 0 0 0 0 0 0 0 0 0 0 0 0 2 0 0 0 0 2 0 0 0 1 0 0 1 2 1 0 1 0\n",
      " 0 0 0 0 0 0 1 1 0 0 0 1 0 0 1 0 0 0 1 1 1 0 0 0 1 0 0 0 0 0 0 0 0 0 0 0 0\n",
      " 0 0]\n"
     ]
    }
   ],
   "source": [
    "my = Hierarchical(3)\n",
    "my.fit(data)\n",
    "labels=np.array(my.labels)\n",
    "print(labels)"
   ]
  },
  {
   "cell_type": "code",
   "execution_count": 16,
   "id": "cd5e746d",
   "metadata": {},
   "outputs": [
    {
     "data": {
      "image/png": "[encoded data removed]",
      "text/plain": [
       "<Figure size 432x288 with 1 Axes>"
      ]
     },
     "metadata": {
      "needs_background": "light"
     },
     "output_type": "display_data"
    }
   ],
   "source": [
    "#可视化一下\n",
    "#3类\n",
    "\n",
    "cat1=data[np.where(labels==0)]\n",
    "cat2=data[np.where(labels==1)]\n",
    "cat3=data[np.where(labels==2)]\n",
    "\n",
    "plt.scatter(cat1[:,0],cat1[:,1],color='red')\n",
    "plt.scatter(cat2[:,0],cat2[:,1],color='green')\n",
    "plt.scatter(cat3[:,0],cat3[:,1],color='blue')\n",
    "plt.show()"
   ]
  },
  {
   "cell_type": "code",
   "execution_count": 18,
   "id": "016e2a3b",
   "metadata": {},
   "outputs": [
    {
     "name": "stdout",
     "output_type": "stream",
     "text": [
      "[1 1 1 1 1 1 1 1 1 1 1 1 1 1 1 1 1 1 1 1 1 1 1 1 1 1 1 1 1 1 1 1 1 1 1 1 1\n",
      " 1 1 1 1 1 1 1 1 1 1 1 1 1 0 0 0 2 0 2 0 1 0 1 1 0 2 0 2 0 2 2 2 2 0 0 2 0\n",
      " 0 0 0 0 0 2 2 2 2 0 2 0 0 2 2 2 2 0 2 1 2 2 2 0 1 2 0 2 0 0 0 0 1 0 0 0 0\n",
      " 0 0 2 2 0 0 0 0 2 0 2 0 0 0 0 0 0 0 0 0 0 0 0 0 0 0 0 0 0 0 0 2 0 0 0 2 0\n",
      " 0 0]\n"
     ]
    }
   ],
   "source": [
    "#试着用sklearn数据集自带的来做\n",
    "sk=cluster.AgglomerativeClustering(3)\n",
    "sk.fit(data)\n",
    "labels_=sk.labels_\n",
    "print(labels_)"
   ]
  },
  {
   "cell_type": "code",
   "execution_count": 19,
   "id": "ec02c1af",
   "metadata": {},
   "outputs": [
    {
     "data": {
      "image/png": "[encoded data removed]",
      "text/plain": [
       "<Figure size 432x288 with 1 Axes>"
      ]
     },
     "metadata": {
      "needs_background": "light"
     },
     "output_type": "display_data"
    }
   ],
   "source": [
    "#将sk的结果可视化\n",
    "\n",
    "cat1_=data[np.where(labels==0)]\n",
    "cat2_=data[np.where(labels==1)]\n",
    "cat3_=data[np.where(labels==2)]\n",
    "\n",
    "plt.scatter(cat1_[:,0],cat1_[:,1],color='red')\n",
    "plt.scatter(cat2_[:,0],cat2_[:,1],color='green')\n",
    "plt.scatter(cat3_[:,0],cat3_[:,1],color='blue')\n",
    "\n",
    "plt.show()"
   ]
  },
  {
   "cell_type": "code",
   "execution_count": 20,
   "id": "1b90b894",
   "metadata": {},
   "outputs": [],
   "source": [
    "#结果一致，ok"
   ]
  },
  {
   "cell_type": "code",
   "execution_count": 21,
   "id": "735c31fe",
   "metadata": {},
   "outputs": [],
   "source": [
    "#实现一下kmeans聚类方法\n",
    "\n",
    "class mKmeans:\n",
    "    def __init__(self,k,n=20):\n",
    "        self.k=k\n",
    "        self.n=n\n",
    "    \n",
    "    def fit(self,x,center=None):\n",
    "        #随机选了k个点\n",
    "        if center is None:\n",
    "            id=np.random.randint(low=0,high=len(x),size=self.k)\n",
    "            center=x[id]\n",
    "            \n",
    "        inter = 0\n",
    "        while inter<self.n:\n",
    "            points={key: [] for key in range(self.k)}\n",
    "            \n",
    "            #遍历点，将p放进相应的聚类\n",
    "            for p in x:\n",
    "                nearest_index=np.argmin(np.sum((center-p)**2,axis=1)**0.5)\n",
    "                points[nearest_index].append(p)\n",
    "            \n",
    "            #计算新的聚类\n",
    "            for i_k in range(self.k):\n",
    "                center[i_k]=sum(points[i_k])/len(points[i_k])\n",
    "                \n",
    "            inter+=1\n",
    "            \n",
    "        return points, center\n",
    "        \n",
    "    "
   ]
  },
  {
   "cell_type": "code",
   "execution_count": 22,
   "id": "78eb4253",
   "metadata": {},
   "outputs": [],
   "source": [
    "f = mKmeans(3)\n",
    "points,center=f.fit(data)"
   ]
  },
  {
   "cell_type": "code",
   "execution_count": 23,
   "id": "8efafb68",
   "metadata": {},
   "outputs": [
    {
     "data": {
      "text/plain": [
       "array([[6.81276596, 3.07446809],\n",
       "       [5.77358491, 2.69245283],\n",
       "       [5.006     , 3.428     ]])"
      ]
     },
     "execution_count": 23,
     "metadata": {},
     "output_type": "execute_result"
    }
   ],
   "source": [
    "center"
   ]
  },
  {
   "cell_type": "code",
   "execution_count": 24,
   "id": "044f1956",
   "metadata": {},
   "outputs": [
    {
     "data": {
      "image/png": "[encoded data removed]",
      "text/plain": [
       "<Figure size 432x288 with 1 Axes>"
      ]
     },
     "metadata": {
      "needs_background": "light"
     },
     "output_type": "display_data"
    }
   ],
   "source": [
    "#可视化一下\n",
    "\n",
    "cat1=np.asarray(points[0])\n",
    "cat2=np.asarray(points[1])\n",
    "cat3=np.asarray(points[2])\n",
    "\n",
    "#加粗化forget\n",
    "\n",
    "plt.scatter(cat1[:,0],cat1[:,1],color='red')\n",
    "plt.scatter(cat2[:,0],cat2[:,1],color='green')\n",
    "plt.scatter(cat3[:,0],cat3[:,1],color='blue')\n",
    "\n",
    "plt.show()"
   ]
  },
  {
   "cell_type": "code",
   "execution_count": 27,
   "id": "62eaa7e1",
   "metadata": {},
   "outputs": [],
   "source": [
    "#用sklearn中的kmeans来实现\n",
    "\n",
    "kmeans=cluster.KMeans(n_clusters=3,max_iter=100).fit(data)\n",
    "label=kmeans.labels_\n",
    "centers=kmeans.cluster_centers_"
   ]
  },
  {
   "cell_type": "code",
   "execution_count": 28,
   "id": "018ff1ba",
   "metadata": {},
   "outputs": [
    {
     "data": {
      "text/plain": [
       "array([0, 0, 0, 0, 0, 0, 0, 0, 0, 0, 0, 0, 0, 0, 0, 0, 0, 0, 0, 0, 0, 0,\n",
       "       0, 0, 0, 0, 0, 0, 0, 0, 0, 0, 0, 0, 0, 0, 0, 0, 0, 0, 0, 0, 0, 0,\n",
       "       0, 0, 0, 0, 0, 0, 2, 2, 2, 1, 2, 1, 2, 1, 2, 1, 1, 1, 1, 1, 1, 2,\n",
       "       1, 1, 1, 1, 1, 1, 1, 1, 2, 2, 2, 2, 1, 1, 1, 1, 1, 1, 1, 1, 2, 1,\n",
       "       1, 1, 1, 1, 1, 1, 1, 1, 1, 1, 1, 1, 2, 1, 2, 2, 2, 2, 1, 2, 2, 2,\n",
       "       2, 2, 2, 1, 1, 2, 2, 2, 2, 1, 2, 1, 2, 1, 2, 2, 1, 1, 2, 2, 2, 2,\n",
       "       2, 1, 1, 2, 2, 2, 1, 2, 2, 2, 1, 2, 2, 2, 1, 2, 2, 1])"
      ]
     },
     "execution_count": 28,
     "metadata": {},
     "output_type": "execute_result"
    }
   ],
   "source": [
    "label\n"
   ]
  },
  {
   "cell_type": "code",
   "execution_count": 29,
   "id": "57855609",
   "metadata": {},
   "outputs": [
    {
     "data": {
      "text/plain": [
       "array([[5.006     , 3.428     ],\n",
       "       [5.77358491, 2.69245283],\n",
       "       [6.81276596, 3.07446809]])"
      ]
     },
     "execution_count": 29,
     "metadata": {},
     "output_type": "execute_result"
    }
   ],
   "source": [
    "centers"
   ]
  },
  {
   "cell_type": "code",
   "execution_count": 30,
   "id": "7dead033",
   "metadata": {},
   "outputs": [
    {
     "data": {
      "image/png": "[encoded data removed]",
      "text/plain": [
       "<Figure size 432x288 with 1 Axes>"
      ]
     },
     "metadata": {
      "needs_background": "light"
     },
     "output_type": "display_data"
    }
   ],
   "source": [
    "#可视化结果\n",
    "cat1=data[label==0]\n",
    "cat2=data[label==1]\n",
    "cat3=data[label==2]\n",
    "\n",
    "plt.scatter(cat1[:,0],cat1[:,1],color='red')\n",
    "plt.scatter(cat2[:,0],cat2[:,1],color='green')\n",
    "plt.scatter(cat3[:,0],cat3[:,1],color='blue')\n",
    "plt.show()"
   ]
  },
  {
   "cell_type": "code",
   "execution_count": 31,
   "id": "40f04e8d",
   "metadata": {},
   "outputs": [],
   "source": [
    "#再探究一下 k值的选取\n"
   ]
  },
  {
   "cell_type": "code",
   "execution_count": 33,
   "id": "fd03faac",
   "metadata": {},
   "outputs": [
    {
     "name": "stderr",
     "output_type": "stream",
     "text": [
      "D:\\Anaconda\\lib\\site-packages\\sklearn\\cluster\\_kmeans.py:881: UserWarning: KMeans is known to have a memory leak on Windows with MKL, when there are less chunks than available threads. You can avoid it by setting the environment variable OMP_NUM_THREADS=1.\n",
      "  warnings.warn(\n"
     ]
    },
    {
     "data": {
      "image/png": "[encoded data removed]",
      "text/plain": [
       "<Figure size 432x288 with 1 Axes>"
      ]
     },
     "metadata": {
      "needs_background": "light"
     },
     "output_type": "display_data"
    }
   ],
   "source": [
    "from sklearn.cluster import KMeans\n",
    "\n",
    "loss=[]\n",
    "for i in range(1,10):\n",
    "    kmeans=KMeans(n_clusters=i,max_iter=100).fit(data)\n",
    "    loss.append(kmeans.inertia_/len(data)/3)\n",
    "    \n",
    "plt.plot(range(1,10),loss)\n",
    "plt.show()"
   ]
  },
  {
   "cell_type": "code",
   "execution_count": null,
   "id": "a77c2433",
   "metadata": {},
   "outputs": [],
   "source": []
  }
 ],
 "metadata": {
  "kernelspec": {
   "display_name": "Python 3",
   "language": "python",
   "name": "python3"
  },
  "language_info": {
   "codemirror_mode": {
    "name": "ipython",
    "version": 3
   },
   "file_extension": ".py",
   "mimetype": "text/x-python",
   "name": "python",
   "nbconvert_exporter": "python",
   "pygments_lexer": "ipython3",
   "version": "3.8.8"
  }
 },
 "nbformat": 4,
 "nbformat_minor": 5
}
