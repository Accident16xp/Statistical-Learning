{
 "cells": [
  {
   "cell_type": "code",
   "execution_count": 9,
   "id": "8882bc8d",
   "metadata": {},
   "outputs": [],
   "source": [
    "#实现一下em算法\n",
    "import numpy as np\n",
    "import math\n",
    "import matplotlib as mpl\n",
    "import matplotlib.pyplot as plt\n",
    "from sklearn.datasets import load_iris\n",
    "from sklearn.preprocessing import Normalizer\n",
    "from sklearn.metrics import accuracy_score\n"
   ]
  },
  {
   "cell_type": "code",
   "execution_count": 11,
   "id": "72b95bd4",
   "metadata": {},
   "outputs": [],
   "source": [
    "class EM:\n",
    "    def __init__(self,prob):\n",
    "        self.pro_A,self.pro_B,self.pro_C=prob\n",
    "        \n",
    "    def _pmf(self,i):\n",
    "        pro_1=self.pro_A * math.pow(self.pro_B,data[i])*math.pow((1-self.pro_B),1-data[i])\n",
    "        pro_2=(1-self.pro_A)*math.pow(self.pro_C,data[i])*math.pow((1-self.pro_C),1-data[i])\n",
    "        return pro_1/(pro_1+pro_2)\n",
    "    \n",
    "    def fit(self,X):\n",
    "        N=len(X)\n",
    "        for d in range(N):\n",
    "            pmf=[self._pmf(k) for k in range(N)]\n",
    "            pro_A=1/N*sum(pmf)\n",
    "            pro_B=sum([pmf[k]*X[k] for k in range(N)])/sum([pmf[k] for k in range(N)])\n",
    "            pro_C=sum([(1-pmf[k])*X[k] for k in range(N)])/sum([(1-pmf[k]) for k in range(N)])\n",
    "            print('{}/{} pro_a:{:.3f},pro_b:{:.3f},pro_c:{:.3f}'.format(d+1,N,pro_A,pro_B,pro_C))\n",
    "            \n",
    "            self.pro_A=pro_A\n",
    "            self.pro_B=pro_B\n",
    "            self.pro_C=pro_C       \n",
    "        return self"
   ]
  },
  {
   "cell_type": "code",
   "execution_count": 7,
   "id": "60c10c44",
   "metadata": {},
   "outputs": [],
   "source": [
    "#输入数据\n",
    "data=[1,1,0,1,0,0,1,0,1,1]"
   ]
  },
  {
   "cell_type": "code",
   "execution_count": 12,
   "id": "aa397d01",
   "metadata": {},
   "outputs": [
    {
     "name": "stdout",
     "output_type": "stream",
     "text": [
      "1/10 pro_a:0.500,pro_b:0.600,pro_c:0.600\n",
      "2/10 pro_a:0.500,pro_b:0.600,pro_c:0.600\n",
      "3/10 pro_a:0.500,pro_b:0.600,pro_c:0.600\n",
      "4/10 pro_a:0.500,pro_b:0.600,pro_c:0.600\n",
      "5/10 pro_a:0.500,pro_b:0.600,pro_c:0.600\n",
      "6/10 pro_a:0.500,pro_b:0.600,pro_c:0.600\n",
      "7/10 pro_a:0.500,pro_b:0.600,pro_c:0.600\n",
      "8/10 pro_a:0.500,pro_b:0.600,pro_c:0.600\n",
      "9/10 pro_a:0.500,pro_b:0.600,pro_c:0.600\n",
      "10/10 pro_a:0.500,pro_b:0.600,pro_c:0.600\n"
     ]
    },
    {
     "data": {
      "text/plain": [
       "<__main__.EM at 0x1c89b01f910>"
      ]
     },
     "execution_count": 12,
     "metadata": {},
     "output_type": "execute_result"
    }
   ],
   "source": [
    "em=EM(prob=[0.5,0.5,0.5])\n",
    "em.fit(data)"
   ]
  },
  {
   "cell_type": "code",
   "execution_count": 20,
   "id": "d8485241",
   "metadata": {},
   "outputs": [
    {
     "ename": "IndentationError",
     "evalue": "unindent does not match any outer indentation level (<tokenize>, line 31)",
     "output_type": "error",
     "traceback": [
      "\u001b[1;36m  File \u001b[1;32m\"<tokenize>\"\u001b[1;36m, line \u001b[1;32m31\u001b[0m\n\u001b[1;33m    def Gaussian(self,x,mean,cov):\u001b[0m\n\u001b[1;37m    ^\u001b[0m\n\u001b[1;31mIndentationError\u001b[0m\u001b[1;31m:\u001b[0m unindent does not match any outer indentation level\n"
     ]
    }
   ],
   "source": [
    "#进阶版本：\n",
    "#高斯混合model GMM\n",
    "\n",
    "class GMM:\n",
    "    def __init__ (self,K,weights=None,means=None,covars=None,sigma=1e-7):\n",
    "        self.KK\n",
    "        if weights is not None:\n",
    "            self.weights=weights\n",
    "        else:\n",
    "            self.weights=np.random.rand(self.K)\n",
    "            self.weights/=np.sum(self.K)\n",
    "        \n",
    "        self.means=means\n",
    "        self.covars=covars\n",
    "        self.sigma=sigma\n",
    "        \n",
    "    def _init_parma(self,X):\n",
    "        col=X.shape[1]\n",
    "        if self.means is None:\n",
    "            self.means = []\n",
    "            for k in range(self.K):\n",
    "                mean=np.random.rand(col)\n",
    "                self.means.append(mean)\n",
    "            \n",
    "        if self.covars is None:\n",
    "            self.covars=[]\n",
    "            for k in range(self.K):\n",
    "                cov=np.random.rand(col,col)\n",
    "                self.covars.append(cov)\n",
    "    \n",
    "     def Gaussian(self,x,mean,cov):\n",
    "            dim=np.shape(cov)[0]\n",
    "            covdet=np.linalg.det(cov+np.eye(dim)*0.01)\n",
    "            covinb=np.linalg.inv(cov+np.eye(dim)*0.01)\n",
    "            xdiff=(x-mean).reshape((1,dim))\n",
    "            prob=1.0/(np.power(np.power(2*np.pi,dim)*np.abs(covdet),0.5))*np.exp(-0.5*xdiff.dot(covinv).dot(xdiff.T))[0][0]\n",
    "            return prob\n",
    "        \n",
    "    def fit(self,X):\n",
    "        self._init_param(X)\n",
    "        \n",
    "        loglikelyhood=0.\n",
    "        oldloglikelyhood=1.\n",
    "        length,dim=np.shape(X)\n",
    "        gammas=[np.zeros(self.K) for i in range(length)]\n",
    "        while np.abs(loglikelyhood-oldloglikelyhood) >self.sigma:\n",
    "            for n in range(length):\n",
    "                respons=[self.weights[k]*self.Gaussian(X[n],self.mwans[k],self.covars[k])\n",
    "                        for k in range(self.K)]\n",
    "                sum_respons=np.sum(respons)\n",
    "                gammas[n]=respons/sum_respons\n",
    "                \n",
    "            for k in range(self.K):\n",
    "                nk=np.sum([gammas[n][k] for n in range(length)])\n",
    "                self.weights[k]=1.0 * nk/length\n",
    "                self.means[k]=(1.0/nk)*np.sum\n",
    "                \n",
    "            \n",
    "            \n",
    "    \n",
    "    "
   ]
  },
  {
   "cell_type": "code",
   "execution_count": null,
   "id": "fce208c7",
   "metadata": {
    "collapsed": true
   },
   "outputs": [],
   "source": []
  }
 ],
 "metadata": {
  "kernelspec": {
   "display_name": "Python 3",
   "language": "python",
   "name": "python3"
  },
  "language_info": {
   "codemirror_mode": {
    "name": "ipython",
    "version": 3
   },
   "file_extension": ".py",
   "mimetype": "text/x-python",
   "name": "python",
   "nbconvert_exporter": "python",
   "pygments_lexer": "ipython3",
   "version": "3.8.8"
  }
 },
 "nbformat": 4,
 "nbformat_minor": 5
}
