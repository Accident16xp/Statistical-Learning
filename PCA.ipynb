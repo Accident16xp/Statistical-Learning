{
 "cells": [
  {
   "cell_type": "code",
   "execution_count": 1,
   "id": "e42c7df3",
   "metadata": {},
   "outputs": [],
   "source": [
    "#来实现一下PCA主成分分析\n",
    "#先要实现的几个基本函数有：标准化，特征值，投影\n"
   ]
  },
  {
   "cell_type": "code",
   "execution_count": 8,
   "id": "2616fdc0",
   "metadata": {},
   "outputs": [],
   "source": [
    "#预处理，导入各种需要的包\n",
    "import numpy as np\n",
    "import timeit\n",
    "import matplotlib as mpl\n",
    "#如果要使用agg的话，一定要写再import matplotlib.pyplot as plt前面\n",
    "mpl.use('Agg')\n",
    "import matplotlib.pyplot as plt\n",
    "#魔术指令（嵌入）\n",
    "%matplotlib inline\n",
    "plt.style.use('fivethirtyeight')\n"
   ]
  },
  {
   "cell_type": "code",
   "execution_count": 9,
   "id": "c60761da",
   "metadata": {},
   "outputs": [],
   "source": [
    "#先实现标准化函数 normalization,每一列对应的一个样本的特征\n",
    "def normalize(X):\n",
    "    #均值mu\n",
    "    mu=np.mean(X,axis=0)\n",
    "    std=np.std(X,axis=0)\n",
    "    std_filled=std.copy()\n",
    "    #防止某些标准差为0的，拷贝一个副本进行修改\n",
    "    std_filled[std==0]=1.\n",
    "    X_=(X-mu)/std_filled\n",
    "    #化为了均值为0，方差为1的数据\n",
    "    \n",
    "    return X_,mu,std_filled\n",
    "\n",
    "    "
   ]
  },
  {
   "cell_type": "code",
   "execution_count": 10,
   "id": "bf60710f",
   "metadata": {},
   "outputs": [],
   "source": [
    "#再实现求特征值以及排序问题：\n",
    "def eig(S):\n",
    "    #直接调用np中的线性代数部分的eig函数，返回特征值以及相对应的特征向量\n",
    "    eigenvalue,eigenvec=np.linalg.eig(S)\n",
    "    #降序排序\n",
    "    order=np.absolute(eigenvalue).argsort()[::-1]\n",
    "    eigenvalue=eigenvalue[order]\n",
    "    eigenvec=eigenvec[:,order]\n",
    "    \n",
    "    return(eigenvalue,eigenvec)\n"
   ]
  },
  {
   "cell_type": "code",
   "execution_count": 11,
   "id": "aa40f7af",
   "metadata": {},
   "outputs": [],
   "source": [
    "#投影过程 B→P\n",
    "def projection(B):\n",
    "    P=B@np.linalg.inv(B.T@B)@B.T\n",
    "\n",
    "    return P\n"
   ]
  },
  {
   "cell_type": "code",
   "execution_count": 12,
   "id": "f8aacdf3",
   "metadata": {},
   "outputs": [],
   "source": [
    "#利用上面的函数来实现PCA\n",
    "\n",
    "def PCA(X,numofcomponents):\n",
    "    S=np.cov(X,rowvar=False,bias=True)\n",
    "    eigenvalue,eigenvec=eig(S)\n",
    "    P=projection(eigenvec[:,:numofcomponents])\n",
    "    X_new=(P@X.T).T\n",
    "    return X_new"
   ]
  },
  {
   "cell_type": "code",
   "execution_count": 13,
   "id": "f60accfa",
   "metadata": {},
   "outputs": [],
   "source": [
    "#补充一个导入mnist数据集\n",
    "from ipywidgets import interact\n",
    "from sklearn.datasets import fetch_openml\n",
    "\n",
    "X,y=fetch_openml('mnist_784',version=1,return_X_y=True)\n"
   ]
  },
  {
   "cell_type": "code",
   "execution_count": 14,
   "id": "ab74fcf4",
   "metadata": {},
   "outputs": [],
   "source": [
    "data_num=1000\n",
    "X=(X.values.reshape(-1,28*28)[:data_num])/255\n",
    "X_,mu,std=normalize(X)\n"
   ]
  },
  {
   "cell_type": "code",
   "execution_count": 6,
   "id": "e75e4ae5",
   "metadata": {},
   "outputs": [],
   "source": [
    "#极大似然函数\n",
    "def mse(prediction,actual):\n",
    "    return np.square(prediction-actual).sum(axis=1).mean()"
   ]
  },
  {
   "cell_type": "code",
   "execution_count": 20,
   "id": "07e11cd3",
   "metadata": {},
   "outputs": [],
   "source": [
    "loss=[]\n",
    "reconstruct=[]\n",
    "for numofcomponents in range(1,200):\n",
    "    reconst=PCA(X_,numofcomponents)\n",
    "    reconst=np.real(reconst)\n",
    "    error=mse(reconst,X_)\n",
    "    reconstruct.append(reconst)\n",
    "    loss.append((numofcomponents,error))\n",
    "    \n",
    "reconstruct=np.asarray(reconstruct)\n",
    "reconstruct=reconstruct*std+mu#变换回去，前面做了标准化\n",
    "loss=np.asarray(loss)"
   ]
  },
  {
   "cell_type": "code",
   "execution_count": 21,
   "id": "0998e593",
   "metadata": {},
   "outputs": [
    {
     "data": {
      "text/plain": [
       "array([[  1.        , 569.447737  ],\n",
       "       [  2.        , 536.05960789],\n",
       "       [  3.        , 508.2502863 ],\n",
       "       [  4.        , 487.01890731],\n",
       "       [  5.        , 467.5716098 ],\n",
       "       [  6.        , 451.17808689],\n",
       "       [  7.        , 436.5384839 ],\n",
       "       [  8.        , 422.99202081],\n",
       "       [  9.        , 411.01404666],\n",
       "       [ 10.        , 399.58408482],\n",
       "       [ 11.        , 389.58456758],\n",
       "       [ 12.        , 379.83978394],\n",
       "       [ 13.        , 371.02934216],\n",
       "       [ 14.        , 362.36689903],\n",
       "       [ 15.        , 353.93855686],\n",
       "       [ 16.        , 345.92550672],\n",
       "       [ 17.        , 338.17547788],\n",
       "       [ 18.        , 330.70873035],\n",
       "       [ 19.        , 323.73303138],\n",
       "       [ 20.        , 316.93886523],\n",
       "       [ 21.        , 310.49698327],\n",
       "       [ 22.        , 304.20199181],\n",
       "       [ 23.        , 298.17260088],\n",
       "       [ 24.        , 292.31351166],\n",
       "       [ 25.        , 286.60598589],\n",
       "       [ 26.        , 281.24976283],\n",
       "       [ 27.        , 276.07351199],\n",
       "       [ 28.        , 271.09073934],\n",
       "       [ 29.        , 266.28536282],\n",
       "       [ 30.        , 261.53618052],\n",
       "       [ 31.        , 256.96848057],\n",
       "       [ 32.        , 252.53616742],\n",
       "       [ 33.        , 248.15147945],\n",
       "       [ 34.        , 243.86006902],\n",
       "       [ 35.        , 239.74442255],\n",
       "       [ 36.        , 235.68179743],\n",
       "       [ 37.        , 231.74503883],\n",
       "       [ 38.        , 227.9065081 ],\n",
       "       [ 39.        , 224.10933912],\n",
       "       [ 40.        , 220.49705699],\n",
       "       [ 41.        , 217.00758076],\n",
       "       [ 42.        , 213.60151668],\n",
       "       [ 43.        , 210.31370558],\n",
       "       [ 44.        , 207.05298346],\n",
       "       [ 45.        , 203.81795514],\n",
       "       [ 46.        , 200.61797497],\n",
       "       [ 47.        , 197.50420341],\n",
       "       [ 48.        , 194.44110428],\n",
       "       [ 49.        , 191.41109116],\n",
       "       [ 50.        , 188.48960448],\n",
       "       [ 51.        , 185.63872737],\n",
       "       [ 52.        , 182.80052322],\n",
       "       [ 53.        , 180.03572104],\n",
       "       [ 54.        , 177.27353937],\n",
       "       [ 55.        , 174.59745826],\n",
       "       [ 56.        , 171.98980329],\n",
       "       [ 57.        , 169.48318823],\n",
       "       [ 58.        , 166.99617872],\n",
       "       [ 59.        , 164.57297709],\n",
       "       [ 60.        , 162.17708199],\n",
       "       [ 61.        , 159.81426123],\n",
       "       [ 62.        , 157.50934187],\n",
       "       [ 63.        , 155.27552624],\n",
       "       [ 64.        , 153.0450001 ],\n",
       "       [ 65.        , 150.83458183],\n",
       "       [ 66.        , 148.69917058],\n",
       "       [ 67.        , 146.58790519],\n",
       "       [ 68.        , 144.50799552],\n",
       "       [ 69.        , 142.4514465 ],\n",
       "       [ 70.        , 140.4345314 ],\n",
       "       [ 71.        , 138.43678549],\n",
       "       [ 72.        , 136.47257   ],\n",
       "       [ 73.        , 134.53392964],\n",
       "       [ 74.        , 132.65186003],\n",
       "       [ 75.        , 130.79480167],\n",
       "       [ 76.        , 128.98204022],\n",
       "       [ 77.        , 127.18698168],\n",
       "       [ 78.        , 125.42000426],\n",
       "       [ 79.        , 123.67337255],\n",
       "       [ 80.        , 121.94005744],\n",
       "       [ 81.        , 120.22981422],\n",
       "       [ 82.        , 118.5477146 ],\n",
       "       [ 83.        , 116.88225578],\n",
       "       [ 84.        , 115.28684052],\n",
       "       [ 85.        , 113.69301922],\n",
       "       [ 86.        , 112.11800076],\n",
       "       [ 87.        , 110.56234884],\n",
       "       [ 88.        , 109.02593247],\n",
       "       [ 89.        , 107.51804164],\n",
       "       [ 90.        , 106.05545277],\n",
       "       [ 91.        , 104.61406486],\n",
       "       [ 92.        , 103.18856975],\n",
       "       [ 93.        , 101.78206579],\n",
       "       [ 94.        , 100.38958433],\n",
       "       [ 95.        ,  99.01470133],\n",
       "       [ 96.        ,  97.68005612],\n",
       "       [ 97.        ,  96.36728424],\n",
       "       [ 98.        ,  95.06751064],\n",
       "       [ 99.        ,  93.77621733],\n",
       "       [100.        ,  92.51971566],\n",
       "       [101.        ,  91.27694599],\n",
       "       [102.        ,  90.03858591],\n",
       "       [103.        ,  88.83029873],\n",
       "       [104.        ,  87.6408477 ],\n",
       "       [105.        ,  86.46537244],\n",
       "       [106.        ,  85.30979765],\n",
       "       [107.        ,  84.18528596],\n",
       "       [108.        ,  83.09501729],\n",
       "       [109.        ,  82.01512986],\n",
       "       [110.        ,  80.94623069],\n",
       "       [111.        ,  79.88984644],\n",
       "       [112.        ,  78.85493657],\n",
       "       [113.        ,  77.83748761],\n",
       "       [114.        ,  76.82650874],\n",
       "       [115.        ,  75.82702141],\n",
       "       [116.        ,  74.85221665],\n",
       "       [117.        ,  73.88539599],\n",
       "       [118.        ,  72.92907487],\n",
       "       [119.        ,  71.99410166],\n",
       "       [120.        ,  71.06672428],\n",
       "       [121.        ,  70.1529291 ],\n",
       "       [122.        ,  69.24795361],\n",
       "       [123.        ,  68.35733525],\n",
       "       [124.        ,  67.48708442],\n",
       "       [125.        ,  66.61700113],\n",
       "       [126.        ,  65.76599005],\n",
       "       [127.        ,  64.92484749],\n",
       "       [128.        ,  64.09356879],\n",
       "       [129.        ,  63.2866848 ],\n",
       "       [130.        ,  62.48814734],\n",
       "       [131.        ,  61.69190329],\n",
       "       [132.        ,  60.91497245],\n",
       "       [133.        ,  60.15218678],\n",
       "       [134.        ,  59.39461633],\n",
       "       [135.        ,  58.64623077],\n",
       "       [136.        ,  57.91733224],\n",
       "       [137.        ,  57.19171755],\n",
       "       [138.        ,  56.48542042],\n",
       "       [139.        ,  55.78265772],\n",
       "       [140.        ,  55.09459184],\n",
       "       [141.        ,  54.41394771],\n",
       "       [142.        ,  53.74339969],\n",
       "       [143.        ,  53.07966839],\n",
       "       [144.        ,  52.42936848],\n",
       "       [145.        ,  51.78813025],\n",
       "       [146.        ,  51.14989759],\n",
       "       [147.        ,  50.52446553],\n",
       "       [148.        ,  49.90972521],\n",
       "       [149.        ,  49.30519778],\n",
       "       [150.        ,  48.70277441],\n",
       "       [151.        ,  48.11278336],\n",
       "       [152.        ,  47.53170123],\n",
       "       [153.        ,  46.97108234],\n",
       "       [154.        ,  46.41222813],\n",
       "       [155.        ,  45.86072513],\n",
       "       [156.        ,  45.31875976],\n",
       "       [157.        ,  44.7932524 ],\n",
       "       [158.        ,  44.27372886],\n",
       "       [159.        ,  43.76389858],\n",
       "       [160.        ,  43.25699698],\n",
       "       [161.        ,  42.75197802],\n",
       "       [162.        ,  42.25078971],\n",
       "       [163.        ,  41.75887687],\n",
       "       [164.        ,  41.2743973 ],\n",
       "       [165.        ,  40.79456985],\n",
       "       [166.        ,  40.32153272],\n",
       "       [167.        ,  39.85366741],\n",
       "       [168.        ,  39.39130213],\n",
       "       [169.        ,  38.9301901 ],\n",
       "       [170.        ,  38.48383278],\n",
       "       [171.        ,  38.04378402],\n",
       "       [172.        ,  37.61207828],\n",
       "       [173.        ,  37.18577387],\n",
       "       [174.        ,  36.76074546],\n",
       "       [175.        ,  36.34426252],\n",
       "       [176.        ,  35.93304563],\n",
       "       [177.        ,  35.52376369],\n",
       "       [178.        ,  35.12148428],\n",
       "       [179.        ,  34.72587842],\n",
       "       [180.        ,  34.33465753],\n",
       "       [181.        ,  33.95135058],\n",
       "       [182.        ,  33.57072176],\n",
       "       [183.        ,  33.19286391],\n",
       "       [184.        ,  32.82163338],\n",
       "       [185.        ,  32.45428361],\n",
       "       [186.        ,  32.09564887],\n",
       "       [187.        ,  31.74069901],\n",
       "       [188.        ,  31.39242487],\n",
       "       [189.        ,  31.0480664 ],\n",
       "       [190.        ,  30.70641085],\n",
       "       [191.        ,  30.36581349],\n",
       "       [192.        ,  30.03095521],\n",
       "       [193.        ,  29.69878898],\n",
       "       [194.        ,  29.36988818],\n",
       "       [195.        ,  29.04797226],\n",
       "       [196.        ,  28.7272746 ],\n",
       "       [197.        ,  28.41438523],\n",
       "       [198.        ,  28.10483985],\n",
       "       [199.        ,  27.79761235]])"
      ]
     },
     "execution_count": 21,
     "metadata": {},
     "output_type": "execute_result"
    }
   ],
   "source": [
    "loss\n"
   ]
  },
  {
   "cell_type": "code",
   "execution_count": 17,
   "id": "72a8deb6",
   "metadata": {},
   "outputs": [],
   "source": [
    "#ok现在来实现一下高维的PCA\n",
    "def PCA_highdim(X,num_components):\n",
    "    N,D=X.shape\n",
    "    #先计算（1/N)\n",
    "    M=(1/N)*(X@X.T)\n",
    "    eigenvalue,eigenvec=eig(M)\n",
    "    U=X.T@eigenvec\n",
    "    P=projection(U[:,0:num_components])\n",
    "    X_reconstruct=(P@X.T).T\n",
    "    \n",
    "    return X_reconstruct\n"
   ]
  },
  {
   "cell_type": "code",
   "execution_count": 18,
   "id": "ffbfd14a",
   "metadata": {},
   "outputs": [
    {
     "name": "stdout",
     "output_type": "stream",
     "text": [
      "correct\n"
     ]
    }
   ],
   "source": [
    "np.testing.assert_almost_equal(PCA(X_,2),PCA_highdim(X_,2))\n",
    "print('correct')"
   ]
  },
  {
   "cell_type": "code",
   "execution_count": 19,
   "id": "105e720f",
   "metadata": {},
   "outputs": [],
   "source": [
    "#下面是探究一般的PCA和高维的PCA的时间区别\n",
    "#先写一个时间函数\n",
    "def time(f,repeat=10):\n",
    "    times=[]\n",
    "    for i in range(repeat):\n",
    "        start=timeit.default_timer()\n",
    "        f()\n",
    "        stop=timeit.default_timer()\n",
    "        times.append(stop-start)\n",
    "    return np.mean(times),np.std(times)"
   ]
  },
  {
   "cell_type": "code",
   "execution_count": 21,
   "id": "62b3f9d1",
   "metadata": {},
   "outputs": [],
   "source": [
    "time_1=[]\n",
    "time_2=[]\n",
    "#遍历计算\n",
    "for size in np.arange(4,784,step=20):\n",
    "    XX=X_[:size]\n",
    "    mu,sigma=time(lambda: XX.T@XX)\n",
    "    time_1.append((size,mu,sigma))\n",
    "    \n",
    "    mu,sigma=time(lambda: XX@XX.T)\n",
    "    time_2.append((size,mu,sigma))\n",
    "    \n",
    "time_1=np.asarray(time_1)\n",
    "time_2=np.asarray(time_2)\n"
   ]
  },
  {
   "cell_type": "code",
   "execution_count": 24,
   "id": "0e97b548",
   "metadata": {},
   "outputs": [
    {
     "data": {
      "image/png": "[encoded data removed]",
      "text/plain": [
       "<Figure size 432x288 with 1 Axes>"
      ]
     },
     "metadata": {},
     "output_type": "display_data"
    }
   ],
   "source": [
    "#可视化\n",
    "fig,axe=plt.subplots()\n",
    "axe.set(xlabel='size of datasets',ylabel='running time')\n",
    "bar=axe.errorbar(time_1[:,0],time_1[:,1],time_2[:,2],label=\"PCA\",linewidth=2)\n",
    "axe.errorbar(time_2[:,0],time_2[:,1],time_2[:,2],label=\"PCA_highdim\",linewidth=2)\n",
    "axe.legend();"
   ]
  },
  {
   "cell_type": "code",
   "execution_count": 26,
   "id": "51d2f6ec",
   "metadata": {},
   "outputs": [],
   "source": [
    "times_0=[]\n",
    "times_1=[]\n",
    "\n",
    "for size in np.arange(4,784,step=100):\n",
    "    XX=X_[:size]\n",
    "    mu,sigma=time(lambda:PCA(XX,2))\n",
    "    times_0.append((size,mu,sigma))\n",
    "    mu,sigma=time(lambda:PCA_highdim(XX,2))\n",
    "    times_1.append((size,mu,sigma))\n",
    "    \n",
    "times_0=np.asarray(times_0)\n",
    "times_1=np.asarray(times_1)\n"
   ]
  },
  {
   "cell_type": "code",
   "execution_count": 27,
   "id": "b2af9f08",
   "metadata": {},
   "outputs": [
    {
     "name": "stdout",
     "output_type": "stream",
     "text": [
      "Wall time: 15 ms\n",
      "Wall time: 26.9 ms\n"
     ]
    },
    {
     "data": {
      "text/plain": [
       "array([[155.39477214,  34.00438299, -51.66524868, ...,  19.31080633,\n",
       "        -19.48143647,  -7.54289044],\n",
       "       [ 28.07717131, 161.92619365, -55.97194459, ...,  64.63110983,\n",
       "          5.38881534, -20.58278502],\n",
       "       [ -7.30407011,  -5.68355434, 229.43966471, ...,  17.28186216,\n",
       "        -18.26020822,   2.71159192],\n",
       "       ...,\n",
       "       [ 12.7153025 ,  63.96281768, -33.67482024, ..., 175.14412827,\n",
       "        -30.43927197,  34.04834091],\n",
       "       [  4.89522189,  35.69268539, -38.24472842, ...,   0.53289023,\n",
       "        114.97001281,   3.43667687],\n",
       "       [ -1.68720204,  -8.79988493, -35.79389824, ...,  46.49953314,\n",
       "        -15.0842931 , 151.03098159]])"
      ]
     },
     "execution_count": 27,
     "metadata": {},
     "output_type": "execute_result"
    }
   ],
   "source": [
    "%time X_.T@X_\n",
    "%time X@X_.T"
   ]
  },
  {
   "cell_type": "code",
   "execution_count": 28,
   "id": "cd9b140f",
   "metadata": {},
   "outputs": [
    {
     "data": {
      "text/plain": [
       "<bound method Axes.legend of <AxesSubplot:xlabel='#(datapoints)', ylabel='running time'>>"
      ]
     },
     "execution_count": 28,
     "metadata": {},
     "output_type": "execute_result"
    },
    {
     "data": {
      "image/png": "[encoded data removed]",
      "text/plain": [
       "<Figure size 432x288 with 1 Axes>"
      ]
     },
     "metadata": {},
     "output_type": "display_data"
    }
   ],
   "source": [
    "fit,axe=plt.subplots()\n",
    "axe.set(xlabel='#(datapoints)',ylabel='running time')\n",
    "axe.errorbar(times_0[:,0],times_0[:,1],times_0[:,2],label=\"PCA\",linewidth=2)\n",
    "axe.errorbar(times_1[:,0],times_1[:,1],times_1[:,2],label=\"PCA_highdim\",linewidth=2)\n",
    "axe.legend\n",
    "            "
   ]
  },
  {
   "cell_type": "code",
   "execution_count": null,
   "id": "88302cd8",
   "metadata": {},
   "outputs": [],
   "source": []
  }
 ],
 "metadata": {
  "kernelspec": {
   "display_name": "Python 3",
   "language": "python",
   "name": "python3"
  },
  "language_info": {
   "codemirror_mode": {
    "name": "ipython",
    "version": 3
   },
   "file_extension": ".py",
   "mimetype": "text/x-python",
   "name": "python",
   "nbconvert_exporter": "python",
   "pygments_lexer": "ipython3",
   "version": "3.8.8"
  }
 },
 "nbformat": 4,
 "nbformat_minor": 5
}
