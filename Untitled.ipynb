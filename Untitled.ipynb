{
 "cells": [
  {
   "cell_type": "code",
   "execution_count": 1,
   "id": "f02fc5b8",
   "metadata": {},
   "outputs": [],
   "source": [
    "#先实现一下hmm相关的问题\n",
    "#暴力按部就班的方法\n",
    "#先罗列一下数据：\n",
    "A=[[0.5,0.2,0.3],[0.3,0.5,0.2],[0.2,0.3,0.5]]\n",
    "B=[[0.5,0.5],[0.4,0.6],[0.7,0.3]]\n",
    "pi=[0.2,0.4,0.4]\n",
    "Q=[0,1,0]\n"
   ]
  },
  {
   "cell_type": "code",
   "execution_count": 7,
   "id": "d0245faa",
   "metadata": {},
   "outputs": [],
   "source": [
    "import numpy as np\n",
    "class HMM:\n",
    "    def __init__(self,A,B,pi):\n",
    "        self.A=A\n",
    "        self.B=B\n",
    "        self.pi=pi\n",
    "    \n",
    "    def forward(self,Q):\n",
    "        #时间序列\n",
    "        T=len(Q)\n",
    "        M=len(self.A)\n",
    "        alpha=np.zeros((T,M))\n",
    "        \n",
    "        #遍历时间序列\n",
    "        for t in range(T):\n",
    "            for m in range(M):\n",
    "                if t==0:\n",
    "                    alpha[t][m]=self.pi[m]*self.B[m][Q[t]]\n",
    "                    print(\"alpha[{}][{}]=pi[{}]*B[{}](Q{})={:.2f}\".format(t+1,m+1,m+1,m+1,Q[t]+1,alpha[t][m]))\n",
    "                    #??\n",
    "                else:\n",
    "                    alpha[t][m]=sum([alpha[t-1][i]*self.A[i][m] for i in range(len(alpha[t-1]))])*self.B[m][Q[t]]\n",
    "                    print(\"alpha[{}][{}]={:.5f}\".format(t+1,m+1,alpha[t][m]))\n",
    "        p=sum(alpha[T-1])\n",
    "        return p\n",
    "                    "
   ]
  },
  {
   "cell_type": "code",
   "execution_count": 8,
   "id": "c3e87e63",
   "metadata": {},
   "outputs": [
    {
     "name": "stdout",
     "output_type": "stream",
     "text": [
      "alpha[1][1]=pi[1]*B[1](Q1)=0.10\n",
      "alpha[1][2]=pi[2]*B[2](Q1)=0.16\n",
      "alpha[1][3]=pi[3]*B[3](Q1)=0.28\n",
      "alpha[2][1]=0.07700\n",
      "alpha[2][2]=0.11040\n",
      "alpha[2][3]=0.06060\n",
      "alpha[3][1]=0.04187\n",
      "alpha[3][2]=0.03551\n",
      "alpha[3][3]=0.05284\n"
     ]
    },
    {
     "data": {
      "text/plain": [
       "0.130218"
      ]
     },
     "execution_count": 8,
     "metadata": {},
     "output_type": "execute_result"
    }
   ],
   "source": [
    "m = HMM(A,B,pi)\n",
    "m.forward(Q)"
   ]
  },
  {
   "cell_type": "code",
   "execution_count": 12,
   "id": "d475e178",
   "metadata": {},
   "outputs": [],
   "source": [
    "#再看后向的\n",
    "class HMM_B:\n",
    "    def __init__(self,A,B,pi):\n",
    "        self.A=A\n",
    "        self.B=B\n",
    "        self.pi=pi\n",
    "    \n",
    "    def backward(self,Q):\n",
    "        T=len(Q)\n",
    "        N=len(self.A)\n",
    "        beta=np.zeros((T,N))\n",
    "        \n",
    "        for t in range(T-1,-1,-1):\n",
    "            for n in range(N):\n",
    "                if t==T-1:\n",
    "                    beta[t][n]=1\n",
    "                    print(\"beta[{}][{}]={:.2f}\".format(t+1,n,beta[t][n]))\n",
    "                else:\n",
    "                    beta[t][n]=sum(self.A[n][j]*self.B[j][Q[t+1]]*beta[t+1][j] for j in range(N))\n",
    "                    print(\"beta[{}][{}]={:.5f}\".format(t+1,n,beta[t][n]))\n",
    "                    \n",
    "        p=sum(self.pi[i]*self.B[i][Q[0]]*beta[0][i] for i in range(N))\n",
    "        return p"
   ]
  },
  {
   "cell_type": "code",
   "execution_count": 13,
   "id": "1cc618b6",
   "metadata": {},
   "outputs": [
    {
     "name": "stdout",
     "output_type": "stream",
     "text": [
      "beta[3][0]=1.00\n",
      "beta[3][1]=1.00\n",
      "beta[3][2]=1.00\n",
      "beta[2][0]=0.54000\n",
      "beta[2][1]=0.49000\n",
      "beta[2][2]=0.57000\n",
      "beta[1][0]=0.24510\n",
      "beta[1][1]=0.26220\n",
      "beta[1][2]=0.22770\n"
     ]
    },
    {
     "data": {
      "text/plain": [
       "0.130218"
      ]
     },
     "execution_count": 13,
     "metadata": {},
     "output_type": "execute_result"
    }
   ],
   "source": [
    "m=HMM_B(A,B,pi)\n",
    "m.backward(Q)"
   ]
  },
  {
   "cell_type": "code",
   "execution_count": 40,
   "id": "1f0cc609",
   "metadata": {},
   "outputs": [],
   "source": [
    "#下面实现维特比算法\n",
    "class HMM_viterbi:\n",
    "    def __init__(self,A,B,pi):\n",
    "        self.A=A\n",
    "        self.B=B\n",
    "        self.pi=pi\n",
    "        \n",
    "    def viterbi(self,Q):\n",
    "        T=len(Q)\n",
    "        N=len(self.A)\n",
    "        sigma=np.zeros((T,N))\n",
    "        delta=np.zeros((T,N))\n",
    "        for t in range(T):\n",
    "            for n in range(N):\n",
    "                if t==0:\n",
    "                    sigma[t][n]=self.pi[n]*self.B[n][Q[t]]\n",
    "                    delta[t][n]=0\n",
    "                    print(\"sigma[{}][{}]={:.2f}\".format(t+1,n+1,sigma[t][n]))\n",
    "                    print(\"delta[{}][{}]={}\".format(t+1,n+1,delta[t][n]))\n",
    "                    \n",
    "                else:\n",
    "                    sigma[t][n]=np.max([sigma[t-1][j]*self.A[j][n] for j in range(N)])*self.B[n][Q[t]]\n",
    "                    print(\"sigma[{}][{}]={:.5f}\".format(t+1,n+1,sigma[t][n]))\n",
    "                    \n",
    "                    delta[t][n]=np.argmax([sigma[t-1][j]*self.A[j][n] for j in range(N)])+1\n",
    "                    print(\"delta[{}][{}]={}\".format(t+1,n+1,delta[t][n]))\n",
    "                    \n",
    "        P=np.max(sigma[T-1])\n",
    "        print(P)\n",
    "        pth=[]\n",
    "        for t in range(T-1,-1,-1):\n",
    "            if t==T-1:\n",
    "                i_t = np.argmax(sigma[t])\n",
    "                pth.append(i_t+1)\n",
    "            else:\n",
    "                i_t=int(delta[t+1][i_t])-1\n",
    "                pth.append(i_t+1)\n",
    "        return pth\n",
    "    "
   ]
  },
  {
   "cell_type": "code",
   "execution_count": 27,
   "id": "9cff5eb0",
   "metadata": {},
   "outputs": [],
   "source": [
    "#试一下另外一组数据\n",
    "A=[[0.5,0.2,0.3],[0.3,0.5,0.2],[0.2,0.3,0.5]]\n",
    "B=[[0.5,0.5],[0.4,0.6],[0.7,0.3]]\n",
    "pi =[0.2,0.4,0.4]\n",
    "Q=[0,1,0]\n"
   ]
  },
  {
   "cell_type": "code",
   "execution_count": 41,
   "id": "d1997ee4",
   "metadata": {},
   "outputs": [
    {
     "name": "stdout",
     "output_type": "stream",
     "text": [
      "sigma[1][1]=0.10\n",
      "delta[1][1]=0.0\n",
      "sigma[1][2]=0.16\n",
      "delta[1][2]=0.0\n",
      "sigma[1][3]=0.28\n",
      "delta[1][3]=0.0\n",
      "sigma[2][1]=0.02800\n",
      "delta[2][1]=3.0\n",
      "sigma[2][2]=0.05040\n",
      "delta[2][2]=3.0\n",
      "sigma[2][3]=0.04200\n",
      "delta[2][3]=3.0\n",
      "sigma[3][1]=0.00756\n",
      "delta[3][1]=2.0\n",
      "sigma[3][2]=0.01008\n",
      "delta[3][2]=2.0\n",
      "sigma[3][3]=0.01470\n",
      "delta[3][3]=3.0\n",
      "0.014699999999999998\n"
     ]
    },
    {
     "data": {
      "text/plain": [
       "[3, 3, 3]"
      ]
     },
     "execution_count": 41,
     "metadata": {},
     "output_type": "execute_result"
    }
   ],
   "source": [
    "m=HMM_viterbi(A,B,pi)\n",
    "m.viterbi(Q)"
   ]
  },
  {
   "cell_type": "code",
   "execution_count": 45,
   "id": "2124fe4c",
   "metadata": {},
   "outputs": [
    {
     "name": "stdout",
     "output_type": "stream",
     "text": [
      "24.532530197109345\n",
      "24.532530197109352\n"
     ]
    }
   ],
   "source": [
    "#再来实现一下CRF\n",
    "import numpy as np\n",
    "\n",
    "T1=[[0.6,1],[1,0]]\n",
    "T2=[[0,1],[1,0.2]]\n",
    "\n",
    "S0=[1,0.5]\n",
    "S1=[0.8,0.5]\n",
    "S2=[0.8,0.5]\n",
    "Y=[1,2,2]\n",
    "Y=np.array(Y)-1\n",
    "P=np.exp(S0[Y[0]])\n",
    "for i in range(1,len(Y)):\n",
    "    P*=np.exp((eval('S%d'%i)[Y[i]])+eval('T%d'%i)[Y[i-1]][Y[i]])\n",
    "print(P)\n",
    "print(np.exp(3.2))\n",
    "\n",
    "    "
   ]
  },
  {
   "cell_type": "code",
   "execution_count": 48,
   "id": "6cd259dc",
   "metadata": {},
   "outputs": [
    {
     "name": "stdout",
     "output_type": "stream",
     "text": [
      "24.532530197109345\n"
     ]
    }
   ],
   "source": [
    "F0=S0\n",
    "F1=T1+np.array(S1*len(T1)).reshape(np.asarray(T1).shape)\n",
    "F2=T2+np.array(S2*len(T2)).reshape(np.asarray(T2).shape)\n",
    "Y=[1,2,2]\n",
    "Y=np.array(Y)-1\n",
    "\n",
    "P=np.exp(F0[Y[0]])\n",
    "Sum=P\n",
    "for i in range(1,len(Y)):\n",
    "    PIter=np.exp((eval('F%d'%i)[Y[i-1]][Y[i]]))\n",
    "    P*=PIter\n",
    "    Sum+PIter\n",
    "print(P)\n"
   ]
  },
  {
   "cell_type": "code",
   "execution_count": null,
   "id": "dbf9e858",
   "metadata": {},
   "outputs": [],
   "source": []
  }
 ],
 "metadata": {
  "kernelspec": {
   "display_name": "Python 3",
   "language": "python",
   "name": "python3"
  },
  "language_info": {
   "codemirror_mode": {
    "name": "ipython",
    "version": 3
   },
   "file_extension": ".py",
   "mimetype": "text/x-python",
   "name": "python",
   "nbconvert_exporter": "python",
   "pygments_lexer": "ipython3",
   "version": "3.8.8"
  }
 },
 "nbformat": 4,
 "nbformat_minor": 5
}
