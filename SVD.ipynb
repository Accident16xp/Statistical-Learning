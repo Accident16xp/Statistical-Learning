{
 "cells": [
  {
   "cell_type": "code",
   "execution_count": 15,
   "id": "f008017e",
   "metadata": {},
   "outputs": [],
   "source": [
    "#16min\n",
    "import numpy as np\n",
    "\n",
    "def rebuild(U,sigma,V):\n",
    "    matrix=np.dot(U,sigma)\n",
    "    matrix=np.dot(matrix,np.transpose(V))\n",
    "    return matrix\n",
    "\n",
    "def sorteigen(eigenvalues,eigenvectors):\n",
    "    index=np.argsort(-1*eigenvalues)\n",
    "    #重排\n",
    "    eigenvalues=eigenvalues[index]\n",
    "    eigenvectors=eigenvectors[:,index]\n",
    "    return eigenvalues,eigenvectors\n",
    "\n",
    "def SVD(A,numofleft=None):\n",
    "    ATA=np.dot(np.transpose(A),A)\n",
    "    lamdaV,XV=np.linalg.eig(ATA)\n",
    "    lamdaV,XV=sorteigen(lamdaV,XV)\n",
    "    sigma=lamdaV\n",
    "    #确保无负值\n",
    "    sigma=list(map (lambda x:np.sqrt(x) if x>0 else 0,sigma))\n",
    "    sigma=np.array(sigma)\n",
    "    sigmaM=np.diag(sigma)\n",
    "    \n",
    "    if numofleft==None:\n",
    "        rank=len(list(filter(lambda x:x>0,sigma)))\n",
    "    else:\n",
    "        rank=numofleft\n",
    "    #只保留大于0的特征值，为了求V\n",
    "    sigmaM=sigmaM[0:rank,:]\n",
    "    \n",
    "    #下面可以开始计算U（m*r）\n",
    "    XU=np.zeros((A.shape[0],rank))#初始化\n",
    "    for i in range(rank):\n",
    "        XU[:,i]=np.transpose(np.dot(A,XV[:,i]/sigma[i]))\n",
    "        #ui=1/sigmaj * (A vj)\n",
    "    \n",
    "    XV=XV[:,0:numofleft]\n",
    "    sigmaM=sigmaM[0:numofleft,0:numofleft]\n",
    "    return XU,sigmaM,XV\n",
    "        \n",
    "    \n",
    "    \n",
    "    \n",
    "    "
   ]
  },
  {
   "cell_type": "code",
   "execution_count": 17,
   "id": "20ea691f",
   "metadata": {},
   "outputs": [],
   "source": [
    "A=np.array([[1,0,0,0],[0,0,0,4],[0,3,0,0],[0,0,0,0],[2,0,0,0]])"
   ]
  },
  {
   "cell_type": "code",
   "execution_count": 18,
   "id": "b23e5102",
   "metadata": {},
   "outputs": [
    {
     "data": {
      "text/plain": [
       "array([[1, 0, 0, 0],\n",
       "       [0, 0, 0, 4],\n",
       "       [0, 3, 0, 0],\n",
       "       [0, 0, 0, 0],\n",
       "       [2, 0, 0, 0]])"
      ]
     },
     "execution_count": 18,
     "metadata": {},
     "output_type": "execute_result"
    }
   ],
   "source": [
    "A"
   ]
  },
  {
   "cell_type": "code",
   "execution_count": 19,
   "id": "cdb35346",
   "metadata": {},
   "outputs": [],
   "source": [
    "U,S,V=SVD(A,None)"
   ]
  },
  {
   "cell_type": "code",
   "execution_count": 20,
   "id": "342d9a77",
   "metadata": {},
   "outputs": [
    {
     "data": {
      "text/plain": [
       "array([[0.        , 0.        , 0.4472136 ],\n",
       "       [1.        , 0.        , 0.        ],\n",
       "       [0.        , 1.        , 0.        ],\n",
       "       [0.        , 0.        , 0.        ],\n",
       "       [0.        , 0.        , 0.89442719]])"
      ]
     },
     "execution_count": 20,
     "metadata": {},
     "output_type": "execute_result"
    }
   ],
   "source": [
    "U\n"
   ]
  },
  {
   "cell_type": "code",
   "execution_count": 21,
   "id": "c9dad121",
   "metadata": {},
   "outputs": [
    {
     "data": {
      "text/plain": [
       "array([[4.        , 0.        , 0.        , 0.        ],\n",
       "       [0.        , 3.        , 0.        , 0.        ],\n",
       "       [0.        , 0.        , 2.23606798, 0.        ]])"
      ]
     },
     "execution_count": 21,
     "metadata": {},
     "output_type": "execute_result"
    }
   ],
   "source": [
    "S"
   ]
  },
  {
   "cell_type": "code",
   "execution_count": 22,
   "id": "164b089f",
   "metadata": {},
   "outputs": [
    {
     "data": {
      "text/plain": [
       "array([[0., 0., 1., 0.],\n",
       "       [0., 1., 0., 0.],\n",
       "       [0., 0., 0., 1.],\n",
       "       [1., 0., 0., 0.]])"
      ]
     },
     "execution_count": 22,
     "metadata": {},
     "output_type": "execute_result"
    }
   ],
   "source": [
    "V"
   ]
  },
  {
   "cell_type": "code",
   "execution_count": 23,
   "id": "a36b0465",
   "metadata": {},
   "outputs": [
    {
     "data": {
      "text/plain": [
       "array([[1., 0., 0., 0.],\n",
       "       [0., 0., 0., 4.],\n",
       "       [0., 3., 0., 0.],\n",
       "       [0., 0., 0., 0.],\n",
       "       [2., 0., 0., 0.]])"
      ]
     },
     "execution_count": 23,
     "metadata": {},
     "output_type": "execute_result"
    }
   ],
   "source": [
    "rebuild(U,S,V)"
   ]
  },
  {
   "cell_type": "code",
   "execution_count": null,
   "id": "588c9ed3",
   "metadata": {},
   "outputs": [],
   "source": []
  }
 ],
 "metadata": {
  "kernelspec": {
   "display_name": "Python 3",
   "language": "python",
   "name": "python3"
  },
  "language_info": {
   "codemirror_mode": {
    "name": "ipython",
    "version": 3
   },
   "file_extension": ".py",
   "mimetype": "text/x-python",
   "name": "python",
   "nbconvert_exporter": "python",
   "pygments_lexer": "ipython3",
   "version": "3.8.8"
  }
 },
 "nbformat": 4,
 "nbformat_minor": 5
}
