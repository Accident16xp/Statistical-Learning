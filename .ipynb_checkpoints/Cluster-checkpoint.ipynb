{
 "cells": [
  {
   "cell_type": "code",
   "execution_count": 1,
   "id": "b4b01e83",
   "metadata": {},
   "outputs": [],
   "source": [
    "#聚类方法的实现"
   ]
  },
  {
   "cell_type": "code",
   "execution_count": 3,
   "id": "15cfb1a5",
   "metadata": {},
   "outputs": [],
   "source": [
    "#导入包\n",
    "import math\n",
    "import random\n",
    "import numpy as np\n",
    "from sklearn import datasets,cluster\n",
    "import matplotlib.pyplot as plt"
   ]
  },
  {
   "cell_type": "code",
   "execution_count": 4,
   "id": "35d94da8",
   "metadata": {},
   "outputs": [],
   "source": [
    "iris =datasets.load_iris()\n",
    "iris['target']\n",
    "data=iris['data'][:,:2]"
   ]
  },
  {
   "cell_type": "code",
   "execution_count": 5,
   "id": "d18f2051",
   "metadata": {},
   "outputs": [],
   "source": [
    "x=data[:,0]\n",
    "y=data[:,1]"
   ]
  },
  {
   "cell_type": "code",
   "execution_count": 6,
   "id": "95e1be61",
   "metadata": {},
   "outputs": [],
   "source": [
    "#可视化基本的数据"
   ]
  },
  {
   "cell_type": "code",
   "execution_count": 7,
   "id": "15117c7f",
   "metadata": {},
   "outputs": [
    {
     "data": {
      "text/plain": [
       "<matplotlib.collections.PathCollection at 0x1d4772097c0>"
      ]
     },
     "execution_count": 7,
     "metadata": {},
     "output_type": "execute_result"
    },
    {
     "data": {
      "image/png": "[encoded data removed]",
      "text/plain": [
       "<Figure size 432x288 with 1 Axes>"
      ]
     },
     "metadata": {
      "needs_background": "light"
     },
     "output_type": "display_data"
    }
   ],
   "source": [
    "plt.scatter(x,y,color='green')\n"
   ]
  },
  {
   "cell_type": "code",
   "execution_count": 8,
   "id": "df7b14f5",
   "metadata": {},
   "outputs": [],
   "source": [
    "#先定义一个类，聚类节点"
   ]
  },
  {
   "cell_type": "code",
   "execution_count": 9,
   "id": "4fa446c7",
   "metadata": {},
   "outputs": [],
   "source": [
    "class ClusterNode:\n",
    "    #中心vec，左节点left，右节点right，距离distance，标记id，叶子个数count\n",
    "    def __init__(self,vec,left=None,right=None,distance=-1,id=None,count=1):\n",
    "        self.vec=vec\n",
    "        self.left=left\n",
    "        self.right=right\n",
    "        self.distance=distance\n",
    "        self.id=id\n",
    "        self.count=count\n",
    "        "
   ]
  },
  {
   "cell_type": "code",
   "execution_count": 10,
   "id": "cfb79cd7",
   "metadata": {},
   "outputs": [],
   "source": [
    "#定义一个距离函数，使用欧式距离\n",
    "def euler_dist(point1: np.ndarray,point2: list)->float:\n",
    "    distance=0.0\n",
    "    for a,b in zip(point1,point2):\n",
    "        distance+=math.pow(a-b,2)\n",
    "    return math.sqrt(distance)"
   ]
  },
  {
   "cell_type": "code",
   "execution_count": 14,
   "id": "f2bba1ef",
   "metadata": {},
   "outputs": [
    {
     "ename": "SyntaxError",
     "evalue": "invalid syntax (<ipython-input-14-848e05522944>, line 36)",
     "output_type": "error",
     "traceback": [
      "\u001b[1;36m  File \u001b[1;32m\"<ipython-input-14-848e05522944>\"\u001b[1;36m, line \u001b[1;32m36\u001b[0m\n\u001b[1;33m    count=node1.count+node2.count)\u001b[0m\n\u001b[1;37m    ^\u001b[0m\n\u001b[1;31mSyntaxError\u001b[0m\u001b[1;31m:\u001b[0m invalid syntax\n"
     ]
    }
   ],
   "source": [
    "#层次聚类方法的实现：\n",
    "class Hierarchi:\n",
    "    def __init__(self,k):\n",
    "        self.k=k\n",
    "        self.labels=None\n",
    "    \n",
    "    def fit(self,x):\n",
    "        #基本量设置：\n",
    "        nodes=[ClusterNode(vec =v,id=i) for i,v in enumerate(x)]\n",
    "        distances={}\n",
    "        point_num,feature_num=x.shape\n",
    "        self.labels=[-1]*point_num\n",
    "        currentclusterid=-1\n",
    "        while(len(nodes))>self.k:\n",
    "            min_dist=math.inf\n",
    "            cloest_part=None\n",
    "            nodes_len=len(nodes)\n",
    "            for i in range(nodes_len - 1):\n",
    "                for j in range(i+1,nodes_len):\n",
    "                    d_key=(nodes[i].id,nodes[j].id)\n",
    "                    if d_key not in distances:\n",
    "                        distances[d_key]=euler_dist(nodes[i].vec,nodes[j].vec)\n",
    "                    d=distances[d_key]\n",
    "                    if d<min_dist:\n",
    "                        min_dist=d\n",
    "                        closet_part=(i,j)\n",
    "            \n",
    "            part1,part2=closest_part\n",
    "            node1,node2=nodes[part1],nodes[part2]\n",
    "            new_vec=[(node1.vec(i)*node1.count+node2.vec[i]*node2.count)/node1.count+node2.count]\n",
    "            new_node=ClusterNode(vec=new_vec,\n",
    "                                 left=node1,\n",
    "                                 right=node2,\n",
    "                                 distance=min_dist,\n",
    "                                 id=currentclusterid\n",
    "                                 count=node1.count+node2.count)\n",
    "            currentclusterid-=1\n",
    "            del nodes[part1],nodes[part2]\n",
    "            nodes.append(new_node)\n",
    "            \n",
    "        self.nodes=nodes\n",
    "        self.calc_label()\n",
    "\n",
    "def calc_laber(self):\n",
    "    for i, node in enumerate(self.nodes):\n",
    "        self.leaf_tranverse(node,i)\n",
    "\n",
    "def leaf_tranverse(self,node:ClusterNode,label):\n",
    "    if node.left==None and node.right==None:\n",
    "        self.labels[node.id]=label\n",
    "    if node.left:\n",
    "        self.leaf_tranverse(node.left,label)\n",
    "    if node.right:\n",
    "        self.leaf_tranverse(node.rigth,label)\n",
    "        \n",
    "  \n"
   ]
  },
  {
   "cell_type": "code",
   "execution_count": null,
   "id": "0454cf58",
   "metadata": {},
   "outputs": [],
   "source": []
  }
 ],
 "metadata": {
  "kernelspec": {
   "display_name": "Python 3",
   "language": "python",
   "name": "python3"
  },
  "language_info": {
   "codemirror_mode": {
    "name": "ipython",
    "version": 3
   },
   "file_extension": ".py",
   "mimetype": "text/x-python",
   "name": "python",
   "nbconvert_exporter": "python",
   "pygments_lexer": "ipython3",
   "version": "3.8.8"
  }
 },
 "nbformat": 4,
 "nbformat_minor": 5
}
